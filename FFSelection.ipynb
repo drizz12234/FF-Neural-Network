{
 "cells": [
  {
   "cell_type": "code",
   "execution_count": 1,
   "id": "faac2b6c",
   "metadata": {
    "ExecuteTime": {
     "end_time": "2025-08-08T15:12:29.794728Z",
     "start_time": "2025-08-08T15:12:29.780574Z"
    }
   },
   "outputs": [
    {
     "name": "stdout",
     "output_type": "stream",
     "text": [
      "2.19.0\n"
     ]
    }
   ],
   "source": [
    "# Tool Setup\n",
    "\n",
    "%load_ext tensorboard\n",
    "\n",
    "import pathlib, os, sys, operator, re, datetime\n",
    "\n",
    "from functools import reduce\n",
    "import numpy as np\n",
    "import matplotlib.pyplot as plt\n",
    "\n",
    "import tensorflow as tf\n",
    "from tensorflow import keras\n",
    "from tensorflow.keras import layers\n",
    "from keras import Model\n",
    "import tensorflow_datasets as tfds\n",
    "import h5py\n",
    "import pandas as pd\n",
    "\n",
    "# Use seaborn for pairplot.\n",
    "# pip install -q seaborn\n",
    "\n",
    "import seaborn as sns\n",
    "\n",
    "# Make NumPy printouts easier to read.\n",
    "np.set_printoptions(precision=3, suppress=True)\n",
    "\n",
    "from sklearn.model_selection import train_test_split\n",
    "from sklearn.linear_model import LinearRegression\n",
    "\n",
    "%reload_ext tensorboard\n",
    "\n",
    "print(tf.__version__)\n"
   ]
  },
  {
   "cell_type": "markdown",
   "id": "0020f350",
   "metadata": {},
   "source": [
    "# Creating Numpy Array of Training Data"
   ]
  },
  {
   "cell_type": "code",
   "execution_count": 2,
   "id": "e4b8a9a6",
   "metadata": {},
   "outputs": [
    {
     "name": "stdout",
     "output_type": "stream",
     "text": [
      "   Previous Pick  Round  Pick Num     RB     WR     QB     TE      K    DST  \\\n",
      "0            NaN    1.0       8.0  0.667  0.333  0.000  0.000  0.000  0.000   \n",
      "1             WR    2.0      17.0  0.333  0.333  0.000  0.333  0.000  0.000   \n",
      "2             RB    3.0      32.0  0.500  0.500  0.000  0.000  0.000  0.000   \n",
      "3             WR    4.0      41.0  0.167  0.333  0.167  0.333  0.000  0.000   \n",
      "4             TE    5.0      56.0  0.167  0.667  0.167  0.000  0.000  0.000   \n",
      "..           ...    ...       ...    ...    ...    ...    ...    ...    ...   \n",
      "93            WR   14.0     161.0  0.333  0.333  0.000  0.000  0.167  0.167   \n",
      "94            RB   15.0     176.0  0.000  0.333  0.167  0.000  0.333  0.167   \n",
      "95          D/ST   16.0     185.0  0.000  0.167  0.000  0.167  0.500  0.167   \n",
      "96           NaN    NaN       NaN    NaN    NaN    NaN    NaN    NaN    NaN   \n",
      "97           NaN    NaN       NaN    NaN    NaN    NaN    NaN    NaN    NaN   \n",
      "\n",
      "    Previous Rank   Age  \n",
      "0            75.0  27.0  \n",
      "1            23.0  23.0  \n",
      "2            52.0  26.0  \n",
      "3           218.0  25.0  \n",
      "4           115.0  26.0  \n",
      "..            ...   ...  \n",
      "93          244.0  21.0  \n",
      "94            NaN   NaN  \n",
      "95            NaN   NaN  \n",
      "96            NaN   NaN  \n",
      "97            NaN   NaN  \n",
      "\n",
      "[98 rows x 11 columns]\n",
      "(98, 1)\n",
      "(98, 11)\n"
     ]
    }
   ],
   "source": [
    "data = 'p:\\Mitchell\\FFNeuralNetwork\\MATT.csv'\n",
    "\n",
    "raw_dataset = pd.read_csv(data, na_values='?', comment='\\t', skipinitialspace=True)\n",
    "\n",
    "dataset = raw_dataset.copy()\n",
    "# dataset.tail()\n",
    "\n",
    "testSet = dataset.copy()                                                # Copying dataset to testset\n",
    "dataset = dataset.drop('Pick', axis = 1)                    # Remove Rank column from training set\n",
    "y = testSet[['Pick']]\n",
    "print(dataset)\n",
    "print(y.shape)\n",
    "print(dataset.shape)\n",
    "\n",
    "X_train, X_test, y_train, y_test = train_test_split(dataset, y, test_size=0.2, random_state=42)\n",
    "\n",
    "X_train = np.array(X_train)\n",
    "X_test = np.array(X_test)\n",
    "y_train = np.array(y_train)\n",
    "y_test = np.array(y_test)"
   ]
  },
  {
   "cell_type": "markdown",
   "id": "635c93ae",
   "metadata": {},
   "source": [
    "# Creating Numpy Array of Test Data"
   ]
  },
  {
   "cell_type": "markdown",
   "id": "52acdb0b",
   "metadata": {},
   "source": [
    "# Creating Numpy Array of Tesing Data"
   ]
  },
  {
   "cell_type": "markdown",
   "id": "021086ed",
   "metadata": {},
   "source": [
    "## My Version"
   ]
  },
  {
   "cell_type": "code",
   "execution_count": 68,
   "id": "ea5a54ba",
   "metadata": {},
   "outputs": [
    {
     "name": "stdout",
     "output_type": "stream",
     "text": [
      "Epoch 1/10\n",
      "\u001b[1m3/3\u001b[0m \u001b[32m━━━━━━━━━━━━━━━━━━━━\u001b[0m\u001b[37m\u001b[0m \u001b[1m1s\u001b[0m 128ms/step - accuracy: 0.1205 - loss: 2.3771 - val_accuracy: 0.3000 - val_loss: 1.7922\n",
      "Epoch 2/10\n",
      "\u001b[1m3/3\u001b[0m \u001b[32m━━━━━━━━━━━━━━━━━━━━\u001b[0m\u001b[37m\u001b[0m \u001b[1m0s\u001b[0m 63ms/step - accuracy: 0.2434 - loss: 2.0003 - val_accuracy: 0.3500 - val_loss: 1.6806\n",
      "Epoch 3/10\n",
      "\u001b[1m3/3\u001b[0m \u001b[32m━━━━━━━━━━━━━━━━━━━━\u001b[0m\u001b[37m\u001b[0m \u001b[1m0s\u001b[0m 74ms/step - accuracy: 0.2185 - loss: 1.8372 - val_accuracy: 0.4500 - val_loss: 1.6798\n",
      "Epoch 4/10\n",
      "\u001b[1m3/3\u001b[0m \u001b[32m━━━━━━━━━━━━━━━━━━━━\u001b[0m\u001b[37m\u001b[0m \u001b[1m0s\u001b[0m 70ms/step - accuracy: 0.3363 - loss: 1.8441 - val_accuracy: 0.2500 - val_loss: 1.7171\n",
      "Epoch 5/10\n",
      "\u001b[1m3/3\u001b[0m \u001b[32m━━━━━━━━━━━━━━━━━━━━\u001b[0m\u001b[37m\u001b[0m \u001b[1m0s\u001b[0m 61ms/step - accuracy: 0.3312 - loss: 1.7939 - val_accuracy: 0.2500 - val_loss: 1.7534\n",
      "Epoch 6/10\n",
      "\u001b[1m3/3\u001b[0m \u001b[32m━━━━━━━━━━━━━━━━━━━━\u001b[0m\u001b[37m\u001b[0m \u001b[1m0s\u001b[0m 56ms/step - accuracy: 0.3115 - loss: 1.7554 - val_accuracy: 0.2500 - val_loss: 1.7688\n",
      "Epoch 7/10\n",
      "\u001b[1m3/3\u001b[0m \u001b[32m━━━━━━━━━━━━━━━━━━━━\u001b[0m\u001b[37m\u001b[0m \u001b[1m0s\u001b[0m 59ms/step - accuracy: 0.2422 - loss: 1.8280 - val_accuracy: 0.2500 - val_loss: 1.7403\n",
      "Epoch 8/10\n",
      "\u001b[1m3/3\u001b[0m \u001b[32m━━━━━━━━━━━━━━━━━━━━\u001b[0m\u001b[37m\u001b[0m \u001b[1m0s\u001b[0m 59ms/step - accuracy: 0.3195 - loss: 1.7855 - val_accuracy: 0.2500 - val_loss: 1.7134\n",
      "Epoch 9/10\n",
      "\u001b[1m3/3\u001b[0m \u001b[32m━━━━━━━━━━━━━━━━━━━━\u001b[0m\u001b[37m\u001b[0m \u001b[1m0s\u001b[0m 63ms/step - accuracy: 0.3051 - loss: 1.7894 - val_accuracy: 0.4000 - val_loss: 1.6874\n",
      "Epoch 10/10\n",
      "\u001b[1m3/3\u001b[0m \u001b[32m━━━━━━━━━━━━━━━━━━━━\u001b[0m\u001b[37m\u001b[0m \u001b[1m0s\u001b[0m 65ms/step - accuracy: 0.3902 - loss: 1.6486 - val_accuracy: 0.4000 - val_loss: 1.6723\n"
     ]
    },
    {
     "data": {
      "text/plain": [
       "<keras.src.callbacks.history.History at 0x16989d2ea50>"
      ]
     },
     "execution_count": 68,
     "metadata": {},
     "output_type": "execute_result"
    }
   ],
   "source": [
    "model = tf.keras.models.Sequential([\n",
    "  # tf.keras.layers.Flatten(input_shape=(28,28)),\n",
    "  tf.keras.layers.Dense(64, activation='relu'),\n",
    "  tf.keras.layers.Dropout(0.2),\n",
    "  tf.keras.layers.Dense(128, activation='relu'),\n",
    "  tf.keras.layers.Dropout(0.2),\n",
    "  tf.keras.layers.Dense(6, activation='softmax')\n",
    "])\n",
    "\n",
    "model.compile(optimizer='adam',\n",
    "  loss='sparse_categorical_crossentropy',\n",
    "  metrics=['accuracy'])\n",
    "\n",
    "# model.compile(optimizer='adam',\n",
    "#   loss='mean_squared_error',\n",
    "#   metrics=['accuracy'])\n",
    "\n",
    "log_dir = \"logs/fit/\" + datetime.datetime.now().strftime(\"%Y%m%d-%H%M%S\")\n",
    "tensorboard_callback = tf.keras.callbacks.TensorBoard(log_dir=log_dir, histogram_freq=1)\n",
    "\n",
    "# print(numpy_array[1,0])\n",
    "# model.fit(x_train, y_train, epochs=10)\n",
    "\n",
    "model.fit(X_train, y_train, epochs=10, validation_data=(X_test, y_test), callbacks=[tensorboard_callback])\n",
    "# model.evaluate(X_test, y_test, verbose = 2)\n",
    "\n",
    "# python -m tensorboard.main --logdir=logs/fit\n",
    "# -------------------------------------------- Use above to view data"
   ]
  },
  {
   "cell_type": "markdown",
   "id": "f164e765",
   "metadata": {},
   "source": [
    "## Single Test"
   ]
  },
  {
   "cell_type": "code",
   "execution_count": 64,
   "id": "f1264e53",
   "metadata": {},
   "outputs": [
    {
     "name": "stdout",
     "output_type": "stream",
     "text": [
      "[[1. 1.]]\n",
      "(96, 6)\n",
      "[[0.164 0.193 0.171 0.166 0.159 0.147]\n",
      " [0.296 0.268 0.112 0.104 0.117 0.104]\n",
      " [0.217 0.234 0.147 0.13  0.166 0.107]\n",
      " [0.299 0.261 0.115 0.104 0.137 0.083]\n",
      " [0.458 0.31  0.056 0.053 0.082 0.041]\n",
      " [0.231 0.255 0.143 0.134 0.169 0.068]\n",
      " [0.221 0.271 0.129 0.143 0.176 0.06 ]\n",
      " [0.267 0.3   0.14  0.094 0.15  0.049]\n",
      " [0.211 0.301 0.147 0.134 0.164 0.043]\n",
      " [0.272 0.321 0.131 0.097 0.144 0.035]\n",
      " [0.362 0.335 0.096 0.064 0.117 0.026]\n",
      " [0.257 0.356 0.129 0.089 0.144 0.025]\n",
      " [0.204 0.35  0.108 0.148 0.168 0.022]\n",
      " [0.252 0.383 0.11  0.093 0.144 0.018]\n",
      " [0.198 0.386 0.109 0.132 0.16  0.015]\n",
      " [0.444 0.378 0.06  0.03  0.078 0.01 ]\n",
      " [0.164 0.193 0.171 0.166 0.159 0.147]\n",
      " [0.225 0.23  0.14  0.133 0.147 0.125]\n",
      " [0.293 0.27  0.116 0.099 0.13  0.092]\n",
      " [0.227 0.241 0.139 0.137 0.16  0.095]\n",
      " [0.231 0.242 0.131 0.139 0.177 0.08 ]\n",
      " [0.297 0.265 0.127 0.097 0.15  0.064]\n",
      " [0.366 0.291 0.09  0.073 0.132 0.049]\n",
      " [0.267 0.3   0.14  0.094 0.15  0.049]\n",
      " [0.211 0.301 0.147 0.134 0.164 0.043]\n",
      " [0.417 0.321 0.089 0.046 0.1   0.027]\n",
      " [0.223 0.339 0.123 0.129 0.158 0.029]\n",
      " [0.397 0.343 0.095 0.043 0.101 0.021]\n",
      " [0.565 0.304 0.035 0.021 0.063 0.011]\n",
      " [0.252 0.383 0.11  0.093 0.144 0.018]\n",
      " [0.258 0.393 0.099 0.095 0.14  0.015]\n",
      " [0.236 0.424 0.1   0.094 0.134 0.013]\n",
      " [0.164 0.193 0.171 0.166 0.159 0.147]\n",
      " [0.225 0.23  0.14  0.133 0.147 0.125]\n",
      " [0.293 0.27  0.116 0.099 0.13  0.092]\n",
      " [0.227 0.241 0.139 0.137 0.16  0.095]\n",
      " [0.458 0.31  0.056 0.053 0.082 0.041]\n",
      " [0.297 0.265 0.127 0.097 0.15  0.064]\n",
      " [0.366 0.291 0.09  0.073 0.132 0.049]\n",
      " [0.267 0.3   0.14  0.094 0.15  0.049]\n",
      " [0.211 0.301 0.147 0.134 0.164 0.043]\n",
      " [0.208 0.314 0.144 0.134 0.164 0.036]\n",
      " [0.289 0.342 0.111 0.092 0.137 0.028]\n",
      " [0.196 0.349 0.142 0.124 0.164 0.025]\n",
      " [0.204 0.35  0.108 0.148 0.168 0.022]\n",
      " [0.393 0.363 0.083 0.044 0.102 0.015]\n",
      " [0.549 0.315 0.042 0.019 0.066 0.009]\n",
      " [0.236 0.424 0.1   0.094 0.134 0.013]\n",
      " [0.164 0.193 0.171 0.166 0.159 0.147]\n",
      " [0.225 0.23  0.14  0.133 0.147 0.125]\n",
      " [0.423 0.34  0.054 0.057 0.072 0.053]\n",
      " [0.299 0.261 0.115 0.104 0.137 0.083]\n",
      " [0.3   0.255 0.112 0.102 0.158 0.073]\n",
      " [0.376 0.278 0.099 0.071 0.122 0.053]\n",
      " [0.221 0.271 0.129 0.143 0.176 0.06 ]\n",
      " [0.267 0.3   0.14  0.094 0.15  0.049]\n",
      " [0.275 0.31  0.133 0.097 0.144 0.042]\n",
      " [0.208 0.314 0.144 0.134 0.164 0.036]\n",
      " [0.223 0.339 0.123 0.129 0.158 0.029]\n",
      " [0.552 0.318 0.045 0.018 0.056 0.012]\n",
      " [0.267 0.357 0.098 0.107 0.148 0.021]\n",
      " [0.252 0.383 0.11  0.093 0.144 0.018]\n",
      " [0.258 0.393 0.099 0.095 0.14  0.015]\n",
      " [0.444 0.378 0.06  0.03  0.078 0.01 ]\n",
      " [0.164 0.193 0.171 0.166 0.159 0.147]\n",
      " [0.296 0.268 0.112 0.104 0.117 0.104]\n",
      " [0.423 0.34  0.054 0.057 0.072 0.053]\n",
      " [0.227 0.241 0.139 0.137 0.16  0.095]\n",
      " [0.385 0.281 0.082 0.075 0.119 0.058]\n",
      " [0.297 0.265 0.127 0.097 0.15  0.064]\n",
      " [0.287 0.281 0.115 0.104 0.156 0.057]\n",
      " [0.205 0.287 0.154 0.13  0.173 0.051]\n",
      " [0.275 0.31  0.133 0.097 0.144 0.042]\n",
      " [0.208 0.314 0.144 0.134 0.164 0.036]\n",
      " [0.223 0.339 0.123 0.129 0.158 0.029]\n",
      " [0.552 0.318 0.045 0.018 0.056 0.012]\n",
      " [0.204 0.35  0.108 0.148 0.168 0.022]\n",
      " [0.393 0.363 0.083 0.044 0.102 0.015]\n",
      " [0.475 0.345 0.056 0.03  0.082 0.011]\n",
      " [0.3   0.42  0.088 0.066 0.114 0.013]\n",
      " [0.164 0.193 0.171 0.166 0.159 0.147]\n",
      " [0.225 0.23  0.14  0.133 0.147 0.125]\n",
      " [0.217 0.234 0.147 0.13  0.166 0.107]\n",
      " [0.299 0.261 0.115 0.104 0.137 0.083]\n",
      " [0.3   0.255 0.112 0.102 0.158 0.073]\n",
      " [0.297 0.265 0.127 0.097 0.15  0.064]\n",
      " [0.287 0.281 0.115 0.104 0.156 0.057]\n",
      " [0.422 0.316 0.084 0.046 0.097 0.034]\n",
      " [0.211 0.301 0.147 0.134 0.164 0.043]\n",
      " [0.341 0.323 0.115 0.068 0.121 0.033]\n",
      " [0.438 0.318 0.078 0.044 0.1   0.023]\n",
      " [0.326 0.352 0.114 0.063 0.122 0.023]\n",
      " [0.204 0.35  0.108 0.148 0.168 0.022]\n",
      " [0.252 0.383 0.11  0.093 0.144 0.018]\n",
      " [0.198 0.386 0.109 0.132 0.16  0.015]\n",
      " [0.518 0.346 0.045 0.019 0.063 0.008]]\n"
     ]
    }
   ],
   "source": [
    "indata = np.empty((1, 2))\n",
    "indata.fill(1)\n",
    "print(indata)\n",
    "\n",
    "guess = model.predict(dataset, verbose=0)\n",
    "\n",
    "# print(output)\n",
    "print(guess.shape)\n",
    "print(guess)"
   ]
  }
 ],
 "metadata": {
  "kernelspec": {
   "display_name": "Python 3",
   "language": "python",
   "name": "python3"
  },
  "language_info": {
   "codemirror_mode": {
    "name": "ipython",
    "version": 3
   },
   "file_extension": ".py",
   "mimetype": "text/x-python",
   "name": "python",
   "nbconvert_exporter": "python",
   "pygments_lexer": "ipython3",
   "version": "3.11.9"
  }
 },
 "nbformat": 4,
 "nbformat_minor": 5
}
